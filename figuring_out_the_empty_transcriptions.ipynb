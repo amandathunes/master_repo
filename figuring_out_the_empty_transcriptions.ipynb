{
 "cells": [
  {
   "cell_type": "code",
   "execution_count": 3,
   "metadata": {},
   "outputs": [
    {
     "name": "stderr",
     "output_type": "stream",
     "text": [
      "2024-06-12 10:23:44.187136: I tensorflow/core/platform/cpu_feature_guard.cc:210] This TensorFlow binary is optimized to use available CPU instructions in performance-critical operations.\n",
      "To enable the following instructions: AVX2 FMA, in other operations, rebuild TensorFlow with the appropriate compiler flags.\n",
      "2024-06-12 10:23:45.389645: W tensorflow/compiler/tf2tensorrt/utils/py_utils.cc:38] TF-TRT Warning: Could not find TensorRT\n"
     ]
    }
   ],
   "source": [
    "# Load dataset before analysing the assesment file setup\n",
    "from prettytable import PrettyTable\n",
    "import pandas as pd \n",
    "import numpy as np\n",
    "import os\n",
    "import seaborn as sns\n",
    "import matplotlib.pyplot as plt\n",
    "\n",
    "import torch\n",
    "\n",
    "import self_made_functions as smf\n",
    "df_fin, wv_path = smf.get_df()\n",
    "\n",
    "mt = pd.DataFrame(columns=['File name', 'Word', 'idx', 'Model'])"
   ]
  },
  {
   "cell_type": "code",
   "execution_count": 4,
   "metadata": {},
   "outputs": [
    {
     "data": {
      "text/html": [
       "<div>\n",
       "<style scoped>\n",
       "    .dataframe tbody tr th:only-of-type {\n",
       "        vertical-align: middle;\n",
       "    }\n",
       "\n",
       "    .dataframe tbody tr th {\n",
       "        vertical-align: top;\n",
       "    }\n",
       "\n",
       "    .dataframe thead th {\n",
       "        text-align: right;\n",
       "    }\n",
       "</style>\n",
       "<table border=\"1\" class=\"dataframe\">\n",
       "  <thead>\n",
       "    <tr style=\"text-align: right;\">\n",
       "      <th></th>\n",
       "      <th>File name</th>\n",
       "      <th>Word</th>\n",
       "      <th>idx</th>\n",
       "      <th>Model</th>\n",
       "    </tr>\n",
       "  </thead>\n",
       "  <tbody>\n",
       "    <tr>\n",
       "      <th>0</th>\n",
       "      <td>d09_blomst.wav</td>\n",
       "      <td>blomst</td>\n",
       "      <td>3850</td>\n",
       "      <td>base</td>\n",
       "    </tr>\n",
       "    <tr>\n",
       "      <th>1</th>\n",
       "      <td>d13_krakk.wav</td>\n",
       "      <td>krakk</td>\n",
       "      <td>3978</td>\n",
       "      <td>base</td>\n",
       "    </tr>\n",
       "  </tbody>\n",
       "</table>\n",
       "</div>"
      ],
      "text/plain": [
       "        File name    Word   idx Model\n",
       "0  d09_blomst.wav  blomst  3850  base\n",
       "1   d13_krakk.wav   krakk  3978  base"
      ]
     },
     "execution_count": 4,
     "metadata": {},
     "output_type": "execute_result"
    }
   ],
   "source": [
    "path = './Transcriptions/empty_transcription_v1.csv'\n",
    "empty_transcription_1 = pd.read_csv(path)\n",
    "empty_transcription_1.head(2)"
   ]
  },
  {
   "cell_type": "code",
   "execution_count": 5,
   "metadata": {},
   "outputs": [
    {
     "name": "stdout",
     "output_type": "stream",
     "text": [
      "Empty transcriptions for empty_transcription_v1\n",
      "Model\n",
      "base                           3\n",
      "nb-whisper-base               35\n",
      "nb-whisper-base-verbatim      98\n",
      "nb-whisper-medium             24\n",
      "nb-whisper-medium-verbatim     1\n",
      "dtype: int64\n"
     ]
    }
   ],
   "source": [
    "# Information about the empty transcription\n",
    "# Which models that has empty transcription and how many they have\n",
    "model_group = empty_transcription_1.groupby('Model')\n",
    "print(f'Empty transcriptions for {path.split(\"/\")[-1].split(\".c\")[0]}')\n",
    "print(model_group.size())"
   ]
  },
  {
   "cell_type": "code",
   "execution_count": 6,
   "metadata": {},
   "outputs": [
    {
     "name": "stdout",
     "output_type": "stream",
     "text": [
      "total unique speaker id's : \n",
      " ['d19' 'd18' 'd17' 'd15' 'd14' 'd13' 'd11' 'd09' 'd08' 'd07' 'd05' 'd01'\n",
      " 'a34' 'a33' 'a30' 'a26' 'a25' 'a21' 'a20' 'a18' 'a15' 'a14' 'a13' 'a12'\n",
      " 'a11' 'a07' 'a06' 'a03'] \n",
      "\n"
     ]
    }
   ],
   "source": [
    "# Add speaker id column\n",
    "empty_transcription_1['speaker_id'] = empty_transcription_1['File name'].str.slice(start=0, stop=3)\n",
    "empty_transcription_1 = empty_transcription_1.sort_values(by='speaker_id', ascending=False)\n",
    "\n",
    "# Check the unique speakers\n",
    "who = empty_transcription_1['speaker_id'].unique()\n",
    "print(\"total unique speaker id's : \\n\", who, '\\n')"
   ]
  },
  {
   "cell_type": "code",
   "execution_count": 7,
   "metadata": {},
   "outputs": [
    {
     "name": "stdout",
     "output_type": "stream",
     "text": [
      "total files per each unique speaker id : \n",
      "\n"
     ]
    },
    {
     "data": {
      "text/plain": [
       "Model\n",
       "base                           3\n",
       "nb-whisper-base                9\n",
       "nb-whisper-base-verbatim      27\n",
       "nb-whisper-medium              7\n",
       "nb-whisper-medium-verbatim     1\n",
       "Name: speaker_id, dtype: int64"
      ]
     },
     "execution_count": 7,
     "metadata": {},
     "output_type": "execute_result"
    }
   ],
   "source": [
    "# Unique speakers in each model group\n",
    "print(\"total files per each unique speaker id : \\n\")\n",
    "model_group['speaker_id'].nunique()"
   ]
  },
  {
   "cell_type": "markdown",
   "metadata": {},
   "source": [
    "Conclusions from this results are that the base models has a harder time transcribing, and has more empty transcriptions than the medium models. It also concludes with nb-whisper-medium-verbatim beeing the best of not giving emty transcriptions, (If you dissregard teh tiny models that has zero empty transcriptions).\n",
    "The normal base model and not the nastional libaris model are better at not returnting empty transcriptions than most of the national libary models amongst the models giving emty transcriptions.\n",
    "\n",
    "Based on the results, it can be concluded that the base models have a harder time not returnting empty transcribing compared to the medium models. The tiny models does not return any empty transcriptions, (but the total metric sores fro the other models are better). A theory why tiny don't return emty transcriptions the same whay can be it has less fetures to work with. It was also observed that the \"OpenAI/medium\" also does not have any empty transciptions, and amongs the empty transcriptions \"nb-whisper-medium-verbatim\" model comes out on top with only one empty transcription. This models comes into second place looking at the mean metric score. The perfomance mean from nb-whisper-medium is the best for all the scores. \n",
    "\n",
    "NB! Recall is better for tiny in the lower rannced scores, but recall is better for the medium for the higher scores. \n",
    "\n",
    "FIND OUT:\n",
    "Hva er score vekten blant de forskjellige modellene? Gir tiny og mindre modellene konsekvent lavere score? \n"
   ]
  },
  {
   "cell_type": "code",
   "execution_count": 8,
   "metadata": {},
   "outputs": [
    {
     "name": "stdout",
     "output_type": "stream",
     "text": [
      "+------------+-----------------+---------------------------------------------------------------------------+\n",
      "| Speaker id | Number of files |                                  In Model                                 |\n",
      "+------------+-----------------+---------------------------------------------------------------------------+\n",
      "|    d19     |        19       |               ['nb-whisper-base-verbatim' 'nb-whisper-base']              |\n",
      "|    d18     |        4        |               ['nb-whisper-base' 'nb-whisper-base-verbatim']              |\n",
      "|    d17     |        2        |                        ['nb-whisper-base-verbatim']                       |\n",
      "|    d15     |        1        |                        ['nb-whisper-base-verbatim']                       |\n",
      "|    d14     |        4        |                        ['nb-whisper-base-verbatim']                       |\n",
      "|    d13     |        8        |  ['nb-whisper-base-verbatim' 'nb-whisper-medium' 'base' 'nb-whisper-base' |\n",
      "|            |                 |                        'nb-whisper-medium-verbatim']                      |\n",
      "|    d11     |        3        |              ['nb-whisper-base-verbatim' 'nb-whisper-medium']             |\n",
      "|    d09     |        50       | ['nb-whisper-base-verbatim' 'base' 'nb-whisper-base' 'nb-whisper-medium'] |\n",
      "|    d08     |        16       |     ['nb-whisper-base' 'nb-whisper-base-verbatim' 'nb-whisper-medium']    |\n",
      "|    d07     |        1        |                        ['nb-whisper-base-verbatim']                       |\n",
      "|    d05     |        1        |                        ['nb-whisper-base-verbatim']                       |\n",
      "|    d01     |        4        |                        ['nb-whisper-base-verbatim']                       |\n",
      "|    a34     |        2        |                        ['nb-whisper-base-verbatim']                       |\n",
      "|    a33     |        2        |                        ['nb-whisper-base-verbatim']                       |\n",
      "|    a30     |        1        |                        ['nb-whisper-base-verbatim']                       |\n",
      "|    a26     |        1        |                        ['nb-whisper-base-verbatim']                       |\n",
      "|    a25     |        2        |                        ['nb-whisper-base-verbatim']                       |\n",
      "|    a21     |        3        |               ['nb-whisper-base-verbatim' 'nb-whisper-base']              |\n",
      "|    a20     |        1        |                        ['nb-whisper-base-verbatim']                       |\n",
      "|    a18     |        1        |                        ['nb-whisper-base-verbatim']                       |\n",
      "|    a15     |        1        |                        ['nb-whisper-base-verbatim']                       |\n",
      "|    a14     |        2        |                        ['nb-whisper-base-verbatim']                       |\n",
      "|    a13     |        8        |              ['nb-whisper-base-verbatim' 'nb-whisper-medium']             |\n",
      "|    a12     |        5        |     ['nb-whisper-medium' 'nb-whisper-base' 'nb-whisper-base-verbatim']    |\n",
      "|    a11     |        11       |     ['nb-whisper-medium' 'nb-whisper-base-verbatim' 'nb-whisper-base']    |\n",
      "|    a07     |        4        |                        ['nb-whisper-base-verbatim']                       |\n",
      "|    a06     |        2        |                         ['nb-whisper-base' 'base']                        |\n",
      "|    a03     |        2        |                        ['nb-whisper-base-verbatim']                       |\n",
      "+------------+-----------------+---------------------------------------------------------------------------+\n"
     ]
    }
   ],
   "source": [
    "identify_tabel_total = PrettyTable()\n",
    "identify_tabel_total.field_names = ['Speaker id', 'Number of files', 'In Model']\n",
    "\n",
    "for speaker in who:\n",
    "    number_of_files = empty_transcription_1[empty_transcription_1['speaker_id'] == speaker].shape[0]\n",
    "    in_model = empty_transcription_1['Model'][empty_transcription_1['speaker_id'] == speaker].unique()\n",
    "    identify_tabel_total.add_row([speaker, number_of_files, in_model])\n",
    "\n",
    "print(identify_tabel_total)"
   ]
  },
  {
   "cell_type": "code",
   "execution_count": 9,
   "metadata": {},
   "outputs": [
    {
     "data": {
      "image/png": "[encoded data removed]",
      "text/plain": [
       "<Figure size 1000x500 with 1 Axes>"
      ]
     },
     "metadata": {},
     "output_type": "display_data"
    }
   ],
   "source": [
    "\n",
    "# Check the number of files per speaker and put in a table\n",
    "x = PrettyTable()\n",
    "x.field_names = ['Speaker id', 'Number of files']\n",
    "\n",
    "for speaker in who:\n",
    "    number_of_files = empty_transcription_1[empty_transcription_1['speaker_id'] == speaker].shape[0]\n",
    "    x.add_row([speaker, number_of_files])\n",
    "\n",
    "# plot the number of files per speaker\n",
    "plt.figure(figsize=(10, 5))\n",
    "sns.countplot(x='speaker_id', data=empty_transcription_1)\n",
    "plt.title('Number of files per speaker in all the models')\n",
    "plt.show()"
   ]
  },
  {
   "cell_type": "code",
   "execution_count": 26,
   "metadata": {},
   "outputs": [
    {
     "data": {
      "text/html": [
       "<div>\n",
       "<style scoped>\n",
       "    .dataframe tbody tr th:only-of-type {\n",
       "        vertical-align: middle;\n",
       "    }\n",
       "\n",
       "    .dataframe tbody tr th {\n",
       "        vertical-align: top;\n",
       "    }\n",
       "\n",
       "    .dataframe thead th {\n",
       "        text-align: right;\n",
       "    }\n",
       "</style>\n",
       "<table border=\"1\" class=\"dataframe\">\n",
       "  <thead>\n",
       "    <tr style=\"text-align: right;\">\n",
       "      <th></th>\n",
       "      <th>File name</th>\n",
       "      <th>Score</th>\n",
       "      <th>Prosody</th>\n",
       "      <th>Noise/Disruption</th>\n",
       "      <th>Pre-speech noise</th>\n",
       "      <th>Repetition</th>\n",
       "      <th>Word</th>\n",
       "      <th>Pronunciation</th>\n",
       "      <th>pronScores</th>\n",
       "      <th>Assessor</th>\n",
       "    </tr>\n",
       "  </thead>\n",
       "  <tbody>\n",
       "    <tr>\n",
       "      <th>7620</th>\n",
       "      <td>d09_glorie.wav</td>\n",
       "      <td>2</td>\n",
       "      <td>1.0</td>\n",
       "      <td>1.0</td>\n",
       "      <td>NaN</td>\n",
       "      <td>NaN</td>\n",
       "      <td>glorie</td>\n",
       "      <td>g l u: r I @</td>\n",
       "      <td>1 1 0 0 1 1</td>\n",
       "      <td>Jeanett</td>\n",
       "    </tr>\n",
       "  </tbody>\n",
       "</table>\n",
       "</div>"
      ],
      "text/plain": [
       "           File name  Score  Prosody  Noise/Disruption  Pre-speech noise  \\\n",
       "7620  d09_glorie.wav      2      1.0               1.0               NaN   \n",
       "\n",
       "      Repetition    Word Pronunciation   pronScores Assessor  \n",
       "7620         NaN  glorie  g l u: r I @  1 1 0 0 1 1  Jeanett  "
      ]
     },
     "execution_count": 26,
     "metadata": {},
     "output_type": "execute_result"
    }
   ],
   "source": [
    "df_fin[df_fin['File name'] == 'd09_glorie.wav']"
   ]
  },
  {
   "cell_type": "code",
   "execution_count": 27,
   "metadata": {},
   "outputs": [
    {
     "data": {
      "text/html": [
       "<div>\n",
       "<style scoped>\n",
       "    .dataframe tbody tr th:only-of-type {\n",
       "        vertical-align: middle;\n",
       "    }\n",
       "\n",
       "    .dataframe tbody tr th {\n",
       "        vertical-align: top;\n",
       "    }\n",
       "\n",
       "    .dataframe thead th {\n",
       "        text-align: right;\n",
       "    }\n",
       "</style>\n",
       "<table border=\"1\" class=\"dataframe\">\n",
       "  <thead>\n",
       "    <tr style=\"text-align: right;\">\n",
       "      <th></th>\n",
       "      <th>File name</th>\n",
       "      <th>Word</th>\n",
       "      <th>idx</th>\n",
       "      <th>Score</th>\n",
       "      <th>Repetition</th>\n",
       "      <th>Noise</th>\n",
       "    </tr>\n",
       "  </thead>\n",
       "  <tbody>\n",
       "    <tr>\n",
       "      <th>140</th>\n",
       "      <td>d09_glorie.wav</td>\n",
       "      <td>glorie</td>\n",
       "      <td>7620</td>\n",
       "      <td>2.0</td>\n",
       "      <td>NaN</td>\n",
       "      <td>1.0</td>\n",
       "    </tr>\n",
       "    <tr>\n",
       "      <th>65</th>\n",
       "      <td>d09_loepe.wav</td>\n",
       "      <td>løpe</td>\n",
       "      <td>516</td>\n",
       "      <td>5.0</td>\n",
       "      <td>NaN</td>\n",
       "      <td>1.0</td>\n",
       "    </tr>\n",
       "    <tr>\n",
       "      <th>155</th>\n",
       "      <td>d09_krykke.wav</td>\n",
       "      <td>krykke</td>\n",
       "      <td>8753</td>\n",
       "      <td>3.0</td>\n",
       "      <td>NaN</td>\n",
       "      <td>1.0</td>\n",
       "    </tr>\n",
       "    <tr>\n",
       "      <th>69</th>\n",
       "      <td>d09_skjorte.wav</td>\n",
       "      <td>skjorte</td>\n",
       "      <td>1318</td>\n",
       "      <td>3.0</td>\n",
       "      <td>NaN</td>\n",
       "      <td>1.0</td>\n",
       "    </tr>\n",
       "    <tr>\n",
       "      <th>72</th>\n",
       "      <td>d09_oere.wav</td>\n",
       "      <td>øre</td>\n",
       "      <td>1837</td>\n",
       "      <td>4.0</td>\n",
       "      <td>NaN</td>\n",
       "      <td>1.0</td>\n",
       "    </tr>\n",
       "    <tr>\n",
       "      <th>73</th>\n",
       "      <td>d09_oedelagt.wav</td>\n",
       "      <td>ødelagt</td>\n",
       "      <td>1986</td>\n",
       "      <td>4.0</td>\n",
       "      <td>NaN</td>\n",
       "      <td>1.0</td>\n",
       "    </tr>\n",
       "    <tr>\n",
       "      <th>77</th>\n",
       "      <td>d09_bryter.wav</td>\n",
       "      <td>bryter</td>\n",
       "      <td>2228</td>\n",
       "      <td>5.0</td>\n",
       "      <td>NaN</td>\n",
       "      <td>1.0</td>\n",
       "    </tr>\n",
       "    <tr>\n",
       "      <th>147</th>\n",
       "      <td>d09_kvart.wav</td>\n",
       "      <td>kvart</td>\n",
       "      <td>8136</td>\n",
       "      <td>4.0</td>\n",
       "      <td>NaN</td>\n",
       "      <td>NaN</td>\n",
       "    </tr>\n",
       "    <tr>\n",
       "      <th>146</th>\n",
       "      <td>d09_internett.wav</td>\n",
       "      <td>internett</td>\n",
       "      <td>8060</td>\n",
       "      <td>4.0</td>\n",
       "      <td>NaN</td>\n",
       "      <td>NaN</td>\n",
       "    </tr>\n",
       "    <tr>\n",
       "      <th>135</th>\n",
       "      <td>d09_klo.wav</td>\n",
       "      <td>klo</td>\n",
       "      <td>7182</td>\n",
       "      <td>5.0</td>\n",
       "      <td>NaN</td>\n",
       "      <td>1.0</td>\n",
       "    </tr>\n",
       "    <tr>\n",
       "      <th>102</th>\n",
       "      <td>d09_krakk.wav</td>\n",
       "      <td>krakk</td>\n",
       "      <td>3941</td>\n",
       "      <td>5.0</td>\n",
       "      <td>NaN</td>\n",
       "      <td>1.0</td>\n",
       "    </tr>\n",
       "    <tr>\n",
       "      <th>134</th>\n",
       "      <td>d09_brun.wav</td>\n",
       "      <td>brun</td>\n",
       "      <td>6816</td>\n",
       "      <td>3.0</td>\n",
       "      <td>NaN</td>\n",
       "      <td>1.0</td>\n",
       "    </tr>\n",
       "    <tr>\n",
       "      <th>84</th>\n",
       "      <td>d09_fjorten.wav</td>\n",
       "      <td>fjorten</td>\n",
       "      <td>2843</td>\n",
       "      <td>3.0</td>\n",
       "      <td>NaN</td>\n",
       "      <td>1.0</td>\n",
       "    </tr>\n",
       "    <tr>\n",
       "      <th>131</th>\n",
       "      <td>d09_port.wav</td>\n",
       "      <td>port</td>\n",
       "      <td>6621</td>\n",
       "      <td>4.0</td>\n",
       "      <td>NaN</td>\n",
       "      <td>1.0</td>\n",
       "    </tr>\n",
       "    <tr>\n",
       "      <th>129</th>\n",
       "      <td>d09_skjerf.wav</td>\n",
       "      <td>skjerf</td>\n",
       "      <td>6492</td>\n",
       "      <td>5.0</td>\n",
       "      <td>NaN</td>\n",
       "      <td>1.0</td>\n",
       "    </tr>\n",
       "    <tr>\n",
       "      <th>90</th>\n",
       "      <td>d09_trapp.wav</td>\n",
       "      <td>trapp</td>\n",
       "      <td>3223</td>\n",
       "      <td>4.0</td>\n",
       "      <td>NaN</td>\n",
       "      <td>1.0</td>\n",
       "    </tr>\n",
       "    <tr>\n",
       "      <th>94</th>\n",
       "      <td>d09_doer.wav</td>\n",
       "      <td>dør</td>\n",
       "      <td>3452</td>\n",
       "      <td>5.0</td>\n",
       "      <td>NaN</td>\n",
       "      <td>NaN</td>\n",
       "    </tr>\n",
       "    <tr>\n",
       "      <th>123</th>\n",
       "      <td>d09_troll.wav</td>\n",
       "      <td>troll</td>\n",
       "      <td>5625</td>\n",
       "      <td>4.0</td>\n",
       "      <td>NaN</td>\n",
       "      <td>1.0</td>\n",
       "    </tr>\n",
       "    <tr>\n",
       "      <th>99</th>\n",
       "      <td>d09_trylle.wav</td>\n",
       "      <td>trylle</td>\n",
       "      <td>3819</td>\n",
       "      <td>4.0</td>\n",
       "      <td>NaN</td>\n",
       "      <td>1.0</td>\n",
       "    </tr>\n",
       "    <tr>\n",
       "      <th>118</th>\n",
       "      <td>d09_kort.wav</td>\n",
       "      <td>kort</td>\n",
       "      <td>5291</td>\n",
       "      <td>3.0</td>\n",
       "      <td>NaN</td>\n",
       "      <td>1.0</td>\n",
       "    </tr>\n",
       "    <tr>\n",
       "      <th>101</th>\n",
       "      <td>d09_blomst.wav</td>\n",
       "      <td>blomst</td>\n",
       "      <td>3850</td>\n",
       "      <td>2.0</td>\n",
       "      <td>NaN</td>\n",
       "      <td>1.0</td>\n",
       "    </tr>\n",
       "    <tr>\n",
       "      <th>80</th>\n",
       "      <td>d09_flue.wav</td>\n",
       "      <td>flue</td>\n",
       "      <td>2407</td>\n",
       "      <td>3.0</td>\n",
       "      <td>NaN</td>\n",
       "      <td>1.0</td>\n",
       "    </tr>\n",
       "    <tr>\n",
       "      <th>160</th>\n",
       "      <td>d09_stoevel.wav</td>\n",
       "      <td>støvel</td>\n",
       "      <td>9165</td>\n",
       "      <td>5.0</td>\n",
       "      <td>NaN</td>\n",
       "      <td>1.0</td>\n",
       "    </tr>\n",
       "  </tbody>\n",
       "</table>\n",
       "</div>"
      ],
      "text/plain": [
       "             File name       Word   idx  Score  Repetition  Noise\n",
       "140     d09_glorie.wav     glorie  7620    2.0         NaN    1.0\n",
       "65       d09_loepe.wav       løpe   516    5.0         NaN    1.0\n",
       "155     d09_krykke.wav     krykke  8753    3.0         NaN    1.0\n",
       "69     d09_skjorte.wav    skjorte  1318    3.0         NaN    1.0\n",
       "72        d09_oere.wav        øre  1837    4.0         NaN    1.0\n",
       "73    d09_oedelagt.wav    ødelagt  1986    4.0         NaN    1.0\n",
       "77      d09_bryter.wav     bryter  2228    5.0         NaN    1.0\n",
       "147      d09_kvart.wav      kvart  8136    4.0         NaN    NaN\n",
       "146  d09_internett.wav  internett  8060    4.0         NaN    NaN\n",
       "135        d09_klo.wav        klo  7182    5.0         NaN    1.0\n",
       "102      d09_krakk.wav      krakk  3941    5.0         NaN    1.0\n",
       "134       d09_brun.wav       brun  6816    3.0         NaN    1.0\n",
       "84     d09_fjorten.wav    fjorten  2843    3.0         NaN    1.0\n",
       "131       d09_port.wav       port  6621    4.0         NaN    1.0\n",
       "129     d09_skjerf.wav     skjerf  6492    5.0         NaN    1.0\n",
       "90       d09_trapp.wav      trapp  3223    4.0         NaN    1.0\n",
       "94        d09_doer.wav        dør  3452    5.0         NaN    NaN\n",
       "123      d09_troll.wav      troll  5625    4.0         NaN    1.0\n",
       "99      d09_trylle.wav     trylle  3819    4.0         NaN    1.0\n",
       "118       d09_kort.wav       kort  5291    3.0         NaN    1.0\n",
       "101     d09_blomst.wav     blomst  3850    2.0         NaN    1.0\n",
       "80        d09_flue.wav       flue  2407    3.0         NaN    1.0\n",
       "160    d09_stoevel.wav     støvel  9165    5.0         NaN    1.0"
      ]
     },
     "execution_count": 27,
     "metadata": {},
     "output_type": "execute_result"
    }
   ],
   "source": [
    "# Look at transcription from specific child and model\n",
    "# Wrote this code and got SettingWithCopyWarning, so gave to GPT to fix. It added .copy() and .loc()\n",
    "child_d09 = empty_transcription_1[empty_transcription_1['speaker_id'] == 'd09']\n",
    "child_d09_medium_verbatim = child_d09[child_d09['Model'] == 'nb-whisper-base-verbatim'].copy( )\n",
    "child_d09_medium_verbatim.drop(columns=['Model', 'speaker_id'], inplace=True)\n",
    "\n",
    "for idx, row in child_d09_medium_verbatim.iterrows():\n",
    "    score = int(df_fin.loc[df_fin['File name'] == row['File name'], 'Score'].values[0])\n",
    "    repetition = df_fin.loc[df_fin['File name'] == row['File name'], 'Repetition'].values[0]\n",
    "    noise = df_fin.loc[df_fin['File name'] == row['File name'], 'Noise/Disruption'].values[0]\n",
    "    \n",
    "    child_d09_medium_verbatim.loc[idx, 'Score'] = score\n",
    "    child_d09_medium_verbatim.loc[idx, 'Noise'] = noise\n",
    "    child_d09_medium_verbatim.loc[idx, 'Repetition'] = repetition\n",
    "    \n",
    "child_d09_medium_verbatim"
   ]
  },
  {
   "cell_type": "code",
   "execution_count": 33,
   "metadata": {},
   "outputs": [
    {
     "name": "stdout",
     "output_type": "stream",
     "text": [
      "Bit Depth: 16\n"
     ]
    }
   ],
   "source": [
    "import wave\n",
    "\n",
    "def get_bit_depth(filename):\n",
    "    try:\n",
    "        with wave.open(filename, 'rb') as wav_file:\n",
    "            sampwidth = wav_file.getsampwidth()  # Get sample width in bytes\n",
    "            bit_depth = sampwidth * 8  # Convert bytes to bits\n",
    "            return bit_depth\n",
    "    except Exception as e:\n",
    "        print(f\"Error reading {filename}: {e}\")\n",
    "        return None\n",
    "\n",
    "filename = '/talebase/data/speech_raw/teflon_no/speech16khz/d09_loepe.wav'\n",
    "bit_depth = get_bit_depth(filename)\n",
    "print(f\"Bit Depth: {bit_depth}\")\n"
   ]
  },
  {
   "cell_type": "code",
   "execution_count": 35,
   "metadata": {},
   "outputs": [
    {
     "name": "stdout",
     "output_type": "stream",
     "text": [
      "The energy of the audio signal\n",
      "d09_glorie.wav is: 0.0008240832487742106\n",
      "d09_loepe.wav is: 0.0001424375573794047\n",
      "d09_krykke.wav is: 7.368132472038269e-05\n",
      "d09_skjorte.wav is: 5.149570604165395e-05\n",
      "d09_oere.wav is: 0.0002613609035809835\n",
      "d09_oedelagt.wav is: 0.0005982209046681722\n",
      "d09_bryter.wav is: 9.446534514427186e-05\n",
      "d09_kvart.wav is: 0.00016679108142852783\n",
      "d09_internett.wav is: 0.0007659134864807129\n",
      "d09_klo.wav is: 0.0011495134035746256\n",
      "d09_krakk.wav is: 7.645402103662491e-06\n",
      "d09_brun.wav is: 0.001258568286895752\n",
      "d09_fjorten.wav is: 0.0002312701940536499\n",
      "d09_port.wav is: 0.00010833814740180969\n",
      "d09_skjerf.wav is: 0.00010497146844863891\n",
      "d09_trapp.wav is: 1.1480388542016347e-05\n",
      "d09_doer.wav is: 0.00011048136154810588\n",
      "d09_troll.wav is: 0.0011366293430328368\n",
      "d09_trylle.wav is: 0.0002907172441482544\n",
      "d09_kort.wav is: 6.837803622086843e-05\n",
      "d09_blomst.wav is: 4.7556752959887186e-05\n",
      "d09_flue.wav is: 0.00028415717681248983\n",
      "d09_stoevel.wav is: 0.0005190191268920898\n"
     ]
    }
   ],
   "source": [
    "# Energy in audio signal\n",
    "import numpy as np\n",
    "import librosa\n",
    "\n",
    "def calculate_energy(audio_file_path):\n",
    "    # Load the audio file. y = audio time series, sr = sample rate\n",
    "    y, sr = librosa.load(audio_file_path, sr=None)\n",
    "    \n",
    "    # Calculate the mean square energy for the signal\n",
    "    # this does not give the \n",
    "    energy = np.sum(y**2) / len(y)\n",
    "    \n",
    "    # Convert energy to dB\n",
    "    bit_depth = 16\n",
    "    ref = 2**(bit_depth - 1)  # Reference level for 16-bit audio\n",
    "    dB_energy = 10 * np.log10(energy / ref)\n",
    "\n",
    "    return energy, dB_energy\n",
    "\n",
    "print('The energy of the audio signal')\n",
    "# iterate throug the files taht are empty and see if they are better\n",
    "for idx, row in child_d09_medium_verbatim.iterrows():\n",
    "    path = os.path.join(wv_path, row['File name'])\n",
    "    energy, dB_energy = calculate_energy(path)\n",
    "    print(f\"{row['File name']} is: {energy}\")\n",
    "    \n",
    "    child_d09_medium_verbatim.loc[idx, 'Energy [db]'] = dB_energy\n",
    "    child_d09_medium_verbatim.loc[idx, 'Energy'] = np.round(energy, 7)\n"
   ]
  },
  {
   "cell_type": "code",
   "execution_count": null,
   "metadata": {},
   "outputs": [],
   "source": []
  },
  {
   "cell_type": "code",
   "execution_count": 37,
   "metadata": {},
   "outputs": [],
   "source": [
    "child_d09_medium_verbatim.to_csv('./child_d09_medium_verbatim.csv', index=False)"
   ]
  },
  {
   "cell_type": "code",
   "execution_count": null,
   "metadata": {},
   "outputs": [],
   "source": [
    "# Spectrograms\n",
    "import librosa\n",
    "import librosa.display\n",
    "import matplotlib.pyplot as plt\n",
    "\n",
    "def plot_spectogram(file_name  ):\n",
    "    # Load audio file\n",
    "    y, sr = librosa.load(file_name)\n",
    "\n",
    "    # Perform STFT\n",
    "    S = librosa.stft(y)\n",
    "\n",
    "    # Convert to dB scale\n",
    "    S_dB = librosa.amplitude_to_db(np.abs(S), ref=np.max)\n",
    "\n",
    "    # Plot the spectrogram\n",
    "    plt.figure(figsize=(14, 5))\n",
    "    librosa.display.specshow(S_dB, sr=sr, x_axis='time', y_axis='log')\n",
    "    plt.colorbar(format='%+2.0f dB')\n",
    "    plt.title('Spectrogram')\n",
    "    plt.show()\n",
    "\n",
    "\n",
    "\n"
   ]
  },
  {
   "cell_type": "code",
   "execution_count": null,
   "metadata": {},
   "outputs": [],
   "source": [
    "# compait with same child but where the model gave score 5 and the assesors gave score 5\n",
    "child_d09_medium_verbatim_comp = pd.DataFrame()\n",
    "child_d09_medium_verbatim_comp\n",
    "\n"
   ]
  },
  {
   "cell_type": "code",
   "execution_count": 10,
   "metadata": {},
   "outputs": [],
   "source": [
    "# Put different colors on a and d:\n",
    "def get_color(speaker_id):\n",
    "    if speaker_id == 'a':\n",
    "        return 'red'\n",
    "    else:\n",
    "        return 'blue'"
   ]
  },
  {
   "cell_type": "code",
   "execution_count": 11,
   "metadata": {},
   "outputs": [
    {
     "data": {
      "image/png": "[encoded data removed]",
      "text/plain": [
       "<Figure size 3000x1000 with 6 Axes>"
      ]
     },
     "metadata": {},
     "output_type": "display_data"
    }
   ],
   "source": [
    "model_names = model_group.groups.keys()\n",
    "colums = 3\n",
    "number_of_plots = len(model_names) % colums\n",
    "# Make a subplot for each model with 2 columns\n",
    "fig, axs = plt.subplots(number_of_plots, colums, figsize=(10*colums, 5*number_of_plots))\n",
    "\n",
    "# plot the number of files per speaker in each model\n",
    "for i, model in enumerate(model_names):\n",
    "    model_data = model_group.get_group(model)\n",
    "    sns.countplot(x='speaker_id', data=model_data, ax=axs[i//colums, i%colums])\n",
    "    axs[i//colums, i%colums].set_title(f'Number of files per speaker in {model}')\n",
    "\n",
    "fig.tight_layout()\n",
    "plt.show()\n"
   ]
  },
  {
   "cell_type": "code",
   "execution_count": 12,
   "metadata": {},
   "outputs": [
    {
     "data": {
      "text/plain": [
       "array([3137, 3722, 4421, 7894, 3024, 2707, 7517, 2627, 5539, 3836, 6609,\n",
       "       2046, 1286, 8275, 4998, 7181, 1286,  388, 6609, 5959, 4430, 2283,\n",
       "       8697, 7653, 4106, 4737, 8356, 4736,  687, 4414, 3146, 3978, 3978,\n",
       "       8891, 3978, 3978, 8891, 3978, 4654, 2003, 4654, 7620,  516, 8753,\n",
       "       1318, 1837, 1986, 2228, 8136, 8060, 7182, 3941, 6816, 2843, 6621,\n",
       "       6492, 3223, 3452, 5625, 3819, 5291, 3850, 3850, 2407, 7182, 3223,\n",
       "       1065,  565, 7727, 7620, 7272, 7101, 6816, 6621, 6194, 3923, 3850,\n",
       "       3526, 3223, 2407, 1240, 1065,  516, 1465, 9165, 4578, 3923, 6194,\n",
       "       5504, 7182, 3941, 8382, 5719, 4687, 4591, 3883, 7205, 2277, 4287,\n",
       "       7389, 3955,  396,  396,  993, 7774,  803, 8382, 3332, 7522, 8604,\n",
       "       3433, 7348, 5577, 6698, 9071, 8615, 5438, 2989, 1487, 7655, 1438,\n",
       "       5956, 9094, 5956, 4203, 2191, 3498, 3663, 4744, 5562, 1827, 3372,\n",
       "       8365, 4211, 2860, 6739, 6092, 8249, 3747, 5862, 3747, 2716, 8946,\n",
       "       3205, 2550, 8518, 6007, 1659, 6549, 7279, 4903, 4406, 4406, 4908,\n",
       "       8040, 7911, 9084, 6289, 6687, 2064, 4036])"
      ]
     },
     "execution_count": 12,
     "metadata": {},
     "output_type": "execute_result"
    }
   ],
   "source": [
    "# Mean score of each of the candidates\n",
    "# Load the scores\n",
    "empty_transcription_1['idx'].values\n",
    "\n",
    "\n",
    "# for id in who:\n",
    "#     print(f\"Speaker {id} has the following scores: \\n\")\n",
    "    \n",
    "#     print(empty_transcription_1[empty_transcription_1['speaker_id'] == id]['Score'].describe(), '\\n')\n",
    "    \n",
    "#     # Mean score of each of the candidates\n",
    "#     print(f\"Mean score of speaker {id} is: \\n\")\n",
    "#     print(empty_transcription_1[empty_transcription_1['speaker_id'] == id]['Score'].mean(), '\\n')\n"
   ]
  },
  {
   "cell_type": "code",
   "execution_count": 13,
   "metadata": {},
   "outputs": [
    {
     "name": "stdout",
     "output_type": "stream",
     "text": [
      "            File name  Score  Prosody  Noise/Disruption  Pre-speech noise  \\\n",
      "0       d19_hylle.wav    2.0      1.0               NaN               NaN   \n",
      "1      d19_artist.wav    3.0      NaN               NaN               NaN   \n",
      "2        d19_kart.wav    5.0      NaN               1.0               NaN   \n",
      "3        d19_jern.wav    4.0      NaN               1.0               NaN   \n",
      "4       d19_lytte.wav    4.0      1.0               1.0               NaN   \n",
      "...               ...    ...      ...               ...               ...   \n",
      "9447     a07_kurv.wav    NaN      NaN               NaN               NaN   \n",
      "9448    a06_kropp.wav    NaN      NaN               NaN               NaN   \n",
      "9449  a06_fregner.wav    NaN      NaN               NaN               NaN   \n",
      "9450      a03_hus.wav    NaN      NaN               NaN               NaN   \n",
      "9451      a03_gul.wav    NaN      NaN               NaN               NaN   \n",
      "\n",
      "      Repetition     Word Pronunciation pronScores    Assessor     idx  \\\n",
      "0            NaN    hylle       h Y l @    1 0 1 0     Jeanett     NaN   \n",
      "1            NaN   artist    A t` I s t  1 0 1 0 1  Anne Marte     NaN   \n",
      "2            NaN     kart        k A t`      1 1 1  Anne Marte     NaN   \n",
      "3            NaN     jern       j {: n`      1 0 1  Anne Marte     NaN   \n",
      "4            NaN    lytte       l Y t @    1 1 1 1     Jeanett     NaN   \n",
      "...          ...      ...           ...        ...         ...     ...   \n",
      "9447         NaN     kurv           NaN        NaN         NaN  9084.0   \n",
      "9448         NaN    kropp           NaN        NaN         NaN  6289.0   \n",
      "9449         NaN  fregner           NaN        NaN         NaN  6687.0   \n",
      "9450         NaN      hus           NaN        NaN         NaN  2064.0   \n",
      "9451         NaN      gul           NaN        NaN         NaN  4036.0   \n",
      "\n",
      "                         Model speaker_id  \n",
      "0                          NaN        NaN  \n",
      "1                          NaN        NaN  \n",
      "2                          NaN        NaN  \n",
      "3                          NaN        NaN  \n",
      "4                          NaN        NaN  \n",
      "...                        ...        ...  \n",
      "9447  nb-whisper-base-verbatim        a07  \n",
      "9448           nb-whisper-base        a06  \n",
      "9449                      base        a06  \n",
      "9450  nb-whisper-base-verbatim        a03  \n",
      "9451  nb-whisper-base-verbatim        a03  \n",
      "\n",
      "[9452 rows x 13 columns]\n"
     ]
    }
   ],
   "source": [
    "import pandas as pd\n",
    "\n",
    "df1 = df_fin\n",
    "df2 = empty_transcription_1\n",
    "\n",
    "# Extract the start of filenames in df2 that match the beginning of filenames in df1\n",
    "matching_indices = []\n",
    "for start_name in who:\n",
    "    matching_rows = df1[df1['File name'].str.startswith(start_name)]\n",
    "    if not matching_rows.empty:\n",
    "        matching_indices.append(matching_rows.index.values)\n",
    "\n",
    "# Create a new DataFrame to hold the merged results\n",
    "merged_df = pd.DataFrame()\n",
    "\n",
    "# Iterate through the indices of matching rows in df1 and merge with df2\n",
    "for indices in matching_indices:\n",
    "    temp_df = pd.concat([df1.loc[indices], df2])\n",
    "    merged_df = pd.concat([merged_df, temp_df])\n",
    "\n",
    "# Reset index to clean up\n",
    "\n",
    "merged_df.reset_index(drop=True, inplace=True)\n",
    "\n",
    "print(merged_df)\n"
   ]
  },
  {
   "cell_type": "code",
   "execution_count": 14,
   "metadata": {},
   "outputs": [
    {
     "name": "stdout",
     "output_type": "stream",
     "text": [
      "split unique speaker id into groups : \n",
      " [array(['d19', 'd18', 'd17', 'd15', 'd14', 'd13'], dtype=object), array(['d11', 'd09', 'd08', 'd07', 'd05', 'd01'], dtype=object), array(['a34', 'a33', 'a30', 'a26', 'a25', 'a21'], dtype=object), array(['a20', 'a18', 'a15', 'a14', 'a13'], dtype=object), array(['a12', 'a11', 'a07', 'a06', 'a03'], dtype=object)] \n",
      "\n"
     ]
    }
   ],
   "source": [
    "\n",
    "# speaker_a = np.array_split(who, \n",
    "who = np.array_split(who, 5)\n",
    "print('split unique speaker id into groups : \\n', who, '\\n')\n",
    "\n"
   ]
  },
  {
   "cell_type": "code",
   "execution_count": 15,
   "metadata": {},
   "outputs": [
    {
     "name": "stderr",
     "output_type": "stream",
     "text": [
      "/tmp/ipykernel_3050047/252174538.py:16: FutureWarning: \n",
      "\n",
      "Passing `palette` without assigning `hue` is deprecated and will be removed in v0.14.0. Assign the `x` variable to `hue` and set `legend=False` for the same effect.\n",
      "\n",
      "  sns.countplot(x='speaker_id', data=empty_transcription_1, palette=sns.color_palette([get_color(i) for i in empty_transcription_1['speaker_id']]))\n",
      "/tmp/ipykernel_3050047/252174538.py:16: UserWarning: The palette list has more values (161) than needed (28), which may not be intended.\n",
      "  sns.countplot(x='speaker_id', data=empty_transcription_1, palette=sns.color_palette([get_color(i) for i in empty_transcription_1['speaker_id']]))\n"
     ]
    },
    {
     "data": {
      "image/png": "[encoded data removed]",
      "text/plain": [
       "<Figure size 1000x500 with 1 Axes>"
      ]
     },
     "metadata": {},
     "output_type": "display_data"
    }
   ],
   "source": [
    "import matplotlib.pyplot as plt\n",
    "import seaborn as sns\n",
    "\n",
    "# Assuming empty_transcription is your DataFrame and it has been imported correctly\n",
    "# Define a function to determine the color based on the speaker_id prefix\n",
    "def get_color(speaker_id):\n",
    "    if speaker_id.startswith(\"a\"):\n",
    "        return \"blue\"\n",
    "    elif speaker_id.startswith(\"d\"):\n",
    "        return \"purple\"\n",
    "    else:\n",
    "        return \"gray\"\n",
    "\n",
    "# Use the function to set the hue parameter dynamically\n",
    "plt.figure(figsize=(10, 5))\n",
    "sns.countplot(x='speaker_id', data=empty_transcription_1, palette=sns.color_palette([get_color(i) for i in empty_transcription_1['speaker_id']]))\n",
    "plt.title('Number of files per speaker')\n",
    "plt.show()\n"
   ]
  },
  {
   "cell_type": "code",
   "execution_count": null,
   "metadata": {},
   "outputs": [],
   "source": []
  },
  {
   "cell_type": "code",
   "execution_count": null,
   "metadata": {},
   "outputs": [],
   "source": [
    "\n",
    "\n"
   ]
  },
  {
   "cell_type": "code",
   "execution_count": 16,
   "metadata": {},
   "outputs": [
    {
     "data": {
      "text/plain": [
       "88     d19_noekkel.wav\n",
       "97       d19_svart.wav\n",
       "18        d19_turn.wav\n",
       "35       d19_hjort.wav\n",
       "87      d19_fortid.wav\n",
       "            ...       \n",
       "158       a07_kurv.wav\n",
       "24       a06_kropp.wav\n",
       "2      a06_fregner.wav\n",
       "75         a03_hus.wav\n",
       "105        a03_gul.wav\n",
       "Name: File name, Length: 161, dtype: object"
      ]
     },
     "execution_count": 16,
     "metadata": {},
     "output_type": "execute_result"
    }
   ],
   "source": [
    "# empty_transcription[speaker_id] = \n",
    "\n",
    "empty_transcription_1['File name']"
   ]
  },
  {
   "cell_type": "code",
   "execution_count": 17,
   "metadata": {},
   "outputs": [
    {
     "name": "stdout",
     "output_type": "stream",
     "text": [
      "{'d', 'a'}\n"
     ]
    }
   ],
   "source": [
    "# Extracting unique characters from the start of file names\n",
    "unique_chars_from_start = set([name[0] for name in empty_transcription_1['File name']])\n",
    "\n",
    "print(unique_chars_from_start)"
   ]
  },
  {
   "cell_type": "code",
   "execution_count": 18,
   "metadata": {},
   "outputs": [],
   "source": [
    "empty_transcription_1['FirstThreeChars'] = empty_transcription_1['File name'].str.slice(start=0, stop=3)\n",
    "empty_transcription_1 = empty_transcription_1.sort_values(by='FirstThreeChars', ascending=False)\n"
   ]
  },
  {
   "cell_type": "code",
   "execution_count": null,
   "metadata": {},
   "outputs": [],
   "source": []
  },
  {
   "cell_type": "markdown",
   "metadata": {},
   "source": [
    "# Empty Transcriptions\n",
    "\n",
    "This notebook focus on analysing and handing the empty transcriptions that are generated by the models.\n",
    "\n",
    "### Information regarding the empty transcriptions [Report food 📚🐲] \n",
    "\n",
    "During the transcription phase of the prosjekt the base and medoum models have atendesy top return empthy striongs. there could be several reasons for this result. First of all, giving Whisper data it is not used to see in its traing data set it can get confused. It is traind on adult speaks, and given sencenses. The dataset used have children talking differntly with a different pich than adult speakres. This experiment also gives it one and one word around 3 seconds [instead of the 30 second that is the set chunk lengdt by defult in the model]. When the model gets \"confused\" it can either give an empty striong or in some cases halusinate. The models is made predictiong what comes next si it is also instences of the model transcribing text where ther is in facts no words.\n",
    "\n"
   ]
  },
  {
   "cell_type": "markdown",
   "metadata": {},
   "source": [
    "#### Find out if there is one person fucking up the transcriptions \n",
    "\n",
    "1) Lenght of the empty files for each model\n",
    "1) Look at the speaker ID\n",
    "2) Look at the specific energy for the wavefiles \n",
    "3) Compair the mean energy witht the transcribed files vs. the not transcribed files  \n"
   ]
  },
  {
   "cell_type": "code",
   "execution_count": 19,
   "metadata": {},
   "outputs": [
    {
     "name": "stdout",
     "output_type": "stream",
     "text": [
      "Null values in Words column  0\n",
      "NaN  values in Words column  0\n"
     ]
    }
   ],
   "source": [
    "# Check if there is any words missing from the data frame\n",
    "print('Null values in Words column ', df_fin['Word'].isnull().sum())\n",
    "print('NaN  values in Words column ', df_fin['Word'].isna().sum())\n",
    "\n",
    "# ANSWER: No, no words are missing\n",
    "\n"
   ]
  },
  {
   "cell_type": "markdown",
   "metadata": {},
   "source": [
    "### Check and Plot the empty strings found 🐉\n",
    "Look at the plot and score of each word.\n",
    "Do you se any patterns? No"
   ]
  },
  {
   "cell_type": "code",
   "execution_count": 20,
   "metadata": {},
   "outputs": [
    {
     "ename": "NameError",
     "evalue": "name 'asr' is not defined",
     "output_type": "error",
     "traceback": [
      "\u001b[0;31m---------------------------------------------------------------------------\u001b[0m",
      "\u001b[0;31mNameError\u001b[0m                                 Traceback (most recent call last)",
      "Cell \u001b[0;32mIn[20], line 17\u001b[0m\n\u001b[1;32m     11\u001b[0m sampling_rate \u001b[38;5;241m=\u001b[39m \u001b[38;5;241m16000\u001b[39m\n\u001b[1;32m     14\u001b[0m \u001b[38;5;66;03m# Check why some strings are empty - Egen kode ingen GPT\u001b[39;00m\n\u001b[1;32m     15\u001b[0m \n\u001b[1;32m     16\u001b[0m \u001b[38;5;66;03m# \u001b[39;00m\n\u001b[0;32m---> 17\u001b[0m \u001b[38;5;28;01mdef\u001b[39;00m \u001b[38;5;21mcheck_specific_word_plot\u001b[39m(datpat:\u001b[38;5;28mstr\u001b[39m \u001b[38;5;241m=\u001b[39m \u001b[38;5;124m'\u001b[39m\u001b[38;5;124m/talebase/data/speech_raw/teflon_no/speech16khz/\u001b[39m\u001b[38;5;124m'\u001b[39m, df:pd\u001b[38;5;241m.\u001b[39mDataFrame\u001b[38;5;241m=\u001b[39mdf_fin, sr:\u001b[38;5;28mint\u001b[39m \u001b[38;5;241m=\u001b[39m sampling_rate, wave_number:\u001b[38;5;28mint\u001b[39m\u001b[38;5;241m=\u001b[39m\u001b[38;5;241m0\u001b[39m, model\u001b[38;5;241m=\u001b[39m\u001b[43masr\u001b[49m, plot: \u001b[38;5;28mbool\u001b[39m\u001b[38;5;241m=\u001b[39m\u001b[38;5;28;01mTrue\u001b[39;00m):\n\u001b[1;32m     18\u001b[0m     wv_path \u001b[38;5;241m=\u001b[39m datpat \u001b[38;5;241m+\u001b[39m df_fin[\u001b[38;5;124m'\u001b[39m\u001b[38;5;124mFile name\u001b[39m\u001b[38;5;124m'\u001b[39m][wave_number]\n\u001b[1;32m     19\u001b[0m     word \u001b[38;5;241m=\u001b[39m df[\u001b[38;5;124m'\u001b[39m\u001b[38;5;124mWord\u001b[39m\u001b[38;5;124m'\u001b[39m][wave_number]\n",
      "\u001b[0;31mNameError\u001b[0m: name 'asr' is not defined"
     ]
    }
   ],
   "source": [
    "# Libaries\n",
    "import whisper\n",
    "import numpy as np\n",
    "import matplotlib.pyplot as plt\n",
    "import seaborn as sns\n",
    "import pandas as pd\n",
    "\n",
    "\n",
    "############### Put in the posebility to \n",
    "# Global variables\n",
    "sampling_rate = 16000\n",
    "\n",
    "\n",
    "# Check why some strings are empty - Egen kode ingen GPT\n",
    "\n",
    "# \n",
    "def check_specific_word_plot(datpat:str = '/talebase/data/speech_raw/teflon_no/speech16khz/', df:pd.DataFrame=df_fin, sr:int = sampling_rate, wave_number:int=0, model=asr, plot: bool=True):\n",
    "    wv_path = datpat + df_fin['File name'][wave_number]\n",
    "    word = df['Word'][wave_number]\n",
    "    trans = model(wv_path, generate_kwargs={'task': 'transcribe', 'language': 'no'})\n",
    "    \n",
    "    print(f'Word nr {wave_number} :', word) # Check if the does not word exist [No]\n",
    "    print('Trans :', trans) # Check if the word is not transcribed [Yes]\n",
    "    print('Score :', df_fin['Score'][wave_number]) # Check if the score is bad [No]\n",
    "\n",
    "    # Check if the audio is empty [No]\n",
    "    audio = whisper.load_audio(f\"{wv_path}\", sr) # (Func)\n",
    "    print('len(audio) :', len(audio))\n",
    "    print('Type :', type(audio))\n",
    "\n",
    "    # Check if the audio looks weird [No]\n",
    "    sec = len(audio) / sr # the wavefrom duration in seconds\n",
    "    print('Clip duration : ', sec)\n",
    "\n",
    "    if plot: \n",
    "        # Calculate time axis\n",
    "        time = np.linspace(0, sec, num=len(audio))\n",
    "\n",
    "        # Plot waveform\n",
    "        sns.set_theme(style=\"white\", palette='deep')\n",
    "        sns.set_style(\"ticks\") \n",
    "\n",
    "        plt.figure(figsize=(10, 4))\n",
    "        sns.lineplot(x=time, y=audio)\n",
    "\n",
    "        plt.xlabel('Time (s)')\n",
    "        plt.ylabel('Amplitude')\n",
    "        plt.title('Audio Waveform')\n",
    "        plt.show()\n",
    "\n",
    "# empty_string = [516, 2046]\n",
    "\n",
    "# for nr in empty_string:\n",
    "#     # print(nr)\n",
    "#     check_specific_word_plot(wave_number=nr)\n",
    "\n",
    "# # Did you find out why the string is empty? \n",
    "# # No, but the word does not get transcribed for some reason, [Ask: Giampiero]"
   ]
  },
  {
   "cell_type": "code",
   "execution_count": null,
   "metadata": {},
   "outputs": [],
   "source": [
    "# Help from ChatGPT to make my function into a pretty table. The rest of the code is mine\n",
    "def plot_word_info(word_indexes, datpat:str='/talebase/data/speech_raw/teflon_no/speech16khz/', df:pd.DataFrame = df_fin, sr:int=sampling_rate, model=asr, save:bool=False, add = '',version='_v1'):\n",
    "    table = PrettyTable() # GPT\n",
    "    table.field_names = [\"Index\", \"Word\", \"Transcription\", \"Score\", \"Duration (s)\", \"Audio Length\", \"Audio Type\"] # GPT\n",
    "    if save: sv = pd.DataFrame(columns=table.field_names) # GPT\n",
    "\n",
    "    for index in word_indexes:\n",
    "        wv_path = datpat + df['File name'][index]\n",
    "        word = df['Word'][index]\n",
    "        trans = model(wv_path, generate_kwargs={'task': 'transcribe', 'language': 'no'})\n",
    "        score = df['Score'][index]\n",
    "\n",
    "        audio = whisper.load_audio(wv_path, sr)\n",
    "        duration_sec = len(audio) / sr\n",
    "\n",
    "        table.add_row([index, word, trans['text'], score, duration_sec, len(audio), type(audio)]) # GPT\n",
    "        if save: sv.loc[index] = [index, word, trans['text'], score, duration_sec, len(audio), type(audio)]\n",
    "    \n",
    "    if save: sv.to_csv(f'./empty_string_info{add}{version}.csv', index=False)\n",
    "\n",
    "    print(table)"
   ]
  },
  {
   "cell_type": "code",
   "execution_count": null,
   "metadata": {},
   "outputs": [],
   "source": [
    "empty_string = empty_rows_saved_whisper_base['Trans']\n",
    "print(f'Checking Empty Strings for {mod}:')\n",
    "# plot_word_info(empty_string, save=True, add=mod)\n",
    "# plot_word_info(empty_string)"
   ]
  },
  {
   "cell_type": "code",
   "execution_count": null,
   "metadata": {},
   "outputs": [],
   "source": [
    "# Help from ChatGPT to show the subplots and the belonging information \n",
    "def plot_empty_strings(empty_string, df:pd.DataFrame = df_fin, datpat:str = '/talebase/data/speech_raw/teflon_no/speech16khz/', sr:int=sampling_rate):\n",
    "    # Set the number of columns for subplots\n",
    "    num_cols = 3\n",
    "    num_rows = len(empty_string) // num_cols + (len(empty_string) % num_cols > 0)\n",
    "\n",
    "    # Create a new figure for subplots\n",
    "    fig, axes = plt.subplots(num_rows, num_cols, figsize=(15, 5 * num_rows))\n",
    "\n",
    "    # Flatten axes if there's only one row\n",
    "    if num_rows == 1:\n",
    "        axes = [axes]\n",
    "\n",
    "    # Iterate through empty_string and plot each waveform\n",
    "    for i, nr in enumerate(empty_string):\n",
    "        row_index = i // num_cols\n",
    "        col_index = i % num_cols\n",
    "\n",
    "        # Plot the waveform\n",
    "        ax = axes[row_index][col_index]\n",
    "        wv_path = datpat + df['File name'][nr]\n",
    "        audio = whisper.load_audio(wv_path, sr)\n",
    "        sec = len(audio) / sr\n",
    "        time = np.linspace(0, sec, num=len(audio))\n",
    "        sns.lineplot(x=time, y=audio, ax=ax)\n",
    "        ax.set_xlabel('Time (s)')\n",
    "        ax.set_ylabel('Amplitude')\n",
    "        ax.set_title(f'Audio Waveform {nr}')\n",
    "        \n",
    "        # This part can be cut - it is given in the dictionary made if the transcription is there or not\n",
    "        trans = asr(wv_path, generate_kwargs={\"task\": \"transcribe\", \"language\": \"no\"})\n",
    "        if not trans['text']:\n",
    "            txt = 'No'\n",
    "        else: \n",
    "            txt = 'Yes'\n",
    "            \n",
    "        # Add annotation below the subplot\n",
    "        info_text = f'Word: {df[\"Word\"][nr]}\\nTranscription: {txt}\\nScore: {df[\"Score\"][nr]}'\n",
    "        ax.annotate(info_text, xy=(0.5, -0.3), xycoords='axes fraction', ha='right', va='center', fontsize=10)\n",
    "\n",
    "    # Adjust layout\n",
    "    plt.tight_layout()\n",
    "    plt.show()\n"
   ]
  },
  {
   "cell_type": "code",
   "execution_count": null,
   "metadata": {},
   "outputs": [],
   "source": [
    "wav detector first - not ebergy detector - woth li"
   ]
  }
 ],
 "metadata": {
  "kernelspec": {
   "display_name": "master_amanda",
   "language": "python",
   "name": "python3"
  },
  "language_info": {
   "codemirror_mode": {
    "name": "ipython",
    "version": 3
   },
   "file_extension": ".py",
   "mimetype": "text/x-python",
   "name": "python",
   "nbconvert_exporter": "python",
   "pygments_lexer": "ipython3",
   "version": "3.1.undefined"
  }
 },
 "nbformat": 4,
 "nbformat_minor": 2
}
