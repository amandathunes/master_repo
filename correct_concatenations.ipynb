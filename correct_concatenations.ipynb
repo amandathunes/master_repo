{
 "cells": [
  {
   "cell_type": "markdown",
   "metadata": {},
   "source": [
    "# <b><span style=\"color:#ADF88B\">10 x 3 sec audio files to 30 sec audio file </span> </b>"
   ]
  },
  {
   "cell_type": "markdown",
   "metadata": {},
   "source": [
    "Multiple tests were conducted to evaluate Whisper's response in this scenario:\n",
    "\n",
    "1. <span style=\"color:#58F2B3\"> Grouping by score: Each score was grouped before transcription. Sorted by file name.</span>\n",
    "2. <span style=\"color:#58F2B3\"> Grouping by score: Each score was grouped before transcription. Mixed file names.</span>\n",
    "\n",
    "3. <span style=\"color:#00D5F7\"> Grouping by person: Each person's independent words were grouped, and sorted by score.</span>\n",
    "4. <span style=\"color:#00D5F7\"> Random shuffling of data before transcription.</span>\n",
    "\n",
    "The results were analyzed using <span style=\"color:#F9F871\">Word Error Rate (WER)</span> and  <span style=\"color:#F9F871\">Character Error Rate (CER)</span> scores to assess the performance of the models."
   ]
  },
  {
   "cell_type": "code",
   "execution_count": 2,
   "metadata": {},
   "outputs": [
    {
     "name": "stderr",
     "output_type": "stream",
     "text": [
      "2024-07-06 13:51:00.652295: I tensorflow/core/platform/cpu_feature_guard.cc:210] This TensorFlow binary is optimized to use available CPU instructions in performance-critical operations.\n",
      "To enable the following instructions: AVX2 FMA, in other operations, rebuild TensorFlow with the appropriate compiler flags.\n",
      "2024-07-06 13:51:01.823843: W tensorflow/compiler/tf2tensorrt/utils/py_utils.cc:38] TF-TRT Warning: Could not find TensorRT\n"
     ]
    }
   ],
   "source": [
    "import self_made_functions as smf\n",
    "from prettytable import PrettyTable\n",
    "from transformers import pipeline\n",
    "import matplotlib.pyplot as plt\n",
    "from pydub import AudioSegment \n",
    "import pandas as pd \n",
    "import numpy as np\n",
    "import whisper\n",
    "import jiwer\n",
    "import os"
   ]
  },
  {
   "cell_type": "code",
   "execution_count": 3,
   "metadata": {},
   "outputs": [],
   "source": [
    "df_assessment, _ = smf.get_correct_df()\n",
    "df= df_assessment\n",
    "s,e = 0,10"
   ]
  },
  {
   "cell_type": "code",
   "execution_count": 16,
   "metadata": {},
   "outputs": [
    {
     "name": "stdout",
     "output_type": "stream",
     "text": [
      "10\n"
     ]
    }
   ],
   "source": [
    "# def per_wer_input_name(df:pd.DataFrame, s:int=0, e:int=10):\n",
    "\n",
    "concat_rows = df.iloc[s:e]  # Rows to concatenate\n",
    "input_words = list(concat_rows.Word.values) # get input string\n",
    "\n",
    "phone_score_lst = [] # list of phone scores to calculate PER\n",
    "wrong_words = 0 # count of wrong words to calculate WER\n",
    "\n",
    "for row in concat_rows.itertuples():\n",
    "    phone_score_lst.append(row.pronScores)\n",
    "    \n",
    "    if row.pronScores.count('1') > 0:\n",
    "        wrong_words += 1   \n",
    "\n",
    "# --- Word Error Rate (WER) --- #\n",
    "number_of_words = len(phone_score_lst)\n",
    "wer = wrong_words/number_of_words # Correct Word Error Rate (WER)\n",
    "\n",
    "# --- Calculate Phone Error Rate (PER) --- #\n",
    "# Make phone scores to one string, and then split into a list\n",
    "phone_scores = (' '.join(phone_score_lst)).split(' ') \n",
    "incorrect_phones = phone_scores.count('0')\n",
    "phone_length = len(phone_scores)\n",
    "per = incorrect_phones/phone_length\n"
   ]
  },
  {
   "cell_type": "code",
   "execution_count": 13,
   "metadata": {},
   "outputs": [
    {
     "data": {
      "text/plain": [
       "17"
      ]
     },
     "execution_count": 13,
     "metadata": {},
     "output_type": "execute_result"
    }
   ],
   "source": [
    "incorrect_phones"
   ]
  },
  {
   "cell_type": "code",
   "execution_count": 12,
   "metadata": {},
   "outputs": [
    {
     "data": {
      "text/plain": [
       "17"
      ]
     },
     "execution_count": 12,
     "metadata": {},
     "output_type": "execute_result"
    }
   ],
   "source": [
    "phone_scores.split(' ').count('0')"
   ]
  },
  {
   "cell_type": "code",
   "execution_count": null,
   "metadata": {},
   "outputs": [],
   "source": [
    "    pron_lst = (' '.join(pron_lst)) # String of all the 0 adn 1s\n",
    "    target_per = pron_lst.count('1')/len(pron_lst) # Correct Character Error Rate (CER)\n",
    "    return target_per, target_wer, input_words\n",
    "\n"
   ]
  },
  {
   "cell_type": "code",
   "execution_count": null,
   "metadata": {},
   "outputs": [],
   "source": [
    "\n",
    "def concat_audio(df:pd.DataFrame, save_directory:str, s:int=0, e:int=10, \n",
    "                wv_path:str = '/talebase/data/speech_raw/teflon_no/speech16khz/', id:str = None):\n",
    "    concat_rows = df.iloc[s:e]  # Rows to concatenate\n",
    "    \n",
    "    combined_audio = AudioSegment.empty() # Empty audio file to concatenate the audio clips\n",
    "    \n",
    "    for row in concat_rows.itertuples():\n",
    "        audio = AudioSegment.from_file(os.path.join(wv_path, row[1]))\n",
    "        combined_audio += audio\n",
    "    \n",
    "    if id:\n",
    "        audio_name =f'{id}_words_{s}_{e}.wav'\n",
    "    else:\n",
    "        audio_name = f'words_{s}_{e}.wav'\n",
    "\n",
    "    if not os.path.exists(save_directory):\n",
    "        os.makedirs(save_directory)\n",
    "        print(f\"Directory {save_directory} created\")\n",
    "\n",
    "    # For store filer! Ikke lagre dem direkte i git repo, men på serveren\n",
    "    audio_directory = os.path.join(save_directory, audio_name)\n",
    "    # Save the combined audio\n",
    "    if not os.path.exists(audio_directory):\n",
    "        combined_audio.export(audio_directory, format=\"wav\")   \n",
    "    \n",
    "    return  audio_name"
   ]
  }
 ],
 "metadata": {
  "kernelspec": {
   "display_name": "master_amanda",
   "language": "python",
   "name": "python3"
  },
  "language_info": {
   "codemirror_mode": {
    "name": "ipython",
    "version": 3
   },
   "file_extension": ".py",
   "mimetype": "text/x-python",
   "name": "python",
   "nbconvert_exporter": "python",
   "pygments_lexer": "ipython3",
   "version": "3.12.4"
  }
 },
 "nbformat": 4,
 "nbformat_minor": 2
}
