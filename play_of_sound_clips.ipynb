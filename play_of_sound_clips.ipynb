{
 "cells": [
  {
   "cell_type": "markdown",
   "metadata": {},
   "source": [
    "### Make script that play the sound out load so i can hear it  💣 "
   ]
  },
  {
   "cell_type": "code",
   "execution_count": null,
   "metadata": {},
   "outputs": [],
   "source": [
    "# Try to play specific wav files to hear what they are saying| -------------\n",
    "# from playsound import playsound\n",
    "\n",
    "# wn = 0 # word for fie number\n",
    "# wv_path = data_path + 'speech16khz/' + df_fin['File name'][wn]\n",
    "\n",
    "# # -- #\n",
    "# # playsound(wv_path)\n",
    "\n",
    "# # import winsound\n",
    "# # filename = wv_path\n",
    "# # winsound.PlaySound(filename, winsound.SND_FILENAME)\n",
    "\n",
    "# # -- #\n",
    "# # from pydub import AudioSegment\n",
    "# # from pydub.playback import play\n",
    "\n",
    "# # song = AudioSegment.from_wav(wv_path)\n",
    "# # play(song)\n",
    "\n",
    "# # -- #\n",
    "# import simpleaudio as sa\n",
    "# import numpy as np\n",
    "\n",
    "# # Assuming whisper.load_audio returns a NumPy array\n",
    "# # Replace this with the actual return value of whisper.load_audio\n",
    "# audio_data = np.random.rand(44100)  # Example audio data\n",
    "\n",
    "# # Convert the audio data to a WaveObject\n",
    "# wave_obj = sa.WaveObject(audio_data.tobytes(), channels=1, samplerate=sampling_rate)\n",
    "\n",
    "# # Play the audio\n",
    "# play_obj = wave_obj.play()\n",
    "\n",
    "# # Wait for the audio to finish playing\n",
    "# play_obj.wait_done()\n"
   ]
  }
 ],
 "metadata": {
  "language_info": {
   "name": "python"
  }
 },
 "nbformat": 4,
 "nbformat_minor": 2
}
