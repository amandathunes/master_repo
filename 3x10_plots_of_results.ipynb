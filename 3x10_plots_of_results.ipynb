{
 "cells": [
  {
   "cell_type": "markdown",
   "metadata": {},
   "source": [
    "# <span style=\"color:#FF9671\"> <b> Results and Analysis of the concatenated plots for each model </b> </span>\n",
    "\n",
    "#### <span style=\"color:#FF9671\"> Bruker kun test 1 og 2. Test 3 og fire viser seg å ikke være så nyttig </span>\n",
    "\n",
    "<span style=\"color:#FF9671\"> Tar heller direkte eksempler fra oversettelsene fra modellene </span>\n",
    "\n",
    "**Ex. På perfekt transcripsjon hvor verbatim oversetter taller 14 istedn for ordet fjorten.**\n",
    "\n",
    "input : | fly flue flette flakse flagg fjorten erter ekorn dykke dør | PER: 0.3870967741935484  | WER: 1.0,\n",
    "\n",
    "output: | fly flue flette flakse flagg 14 erter ekorn dykker dør    | CER: 0.13793103448275862 | translated WER: 0.2, \n",
    "\n",
    "Lengde diff: 0,\n",
    "\n",
    "ID: d17\n",
    "\n",
    "global score: 5\n",
    "\n",
    "fil: words_240_250.wav,../3x10_Concatenations/3x10_score_5_sorted,NNL-medium-verbatim\n",
    "\n",
    "\n",
    "--\n",
    "\n",
    "The results from the randomized tests are a bit wrong. \n",
    "\n",
    "The randomization was not included whit a seed, so the models can not be compared for the random test, but fro the test where noting was changes.\n",
    "\n",
    "<!-- ---\n",
    "<span style=\"color:#D65DB1\"> <b> Plot 1 </b> </span> : Plot boxplot of the target lengdt default for each global score.\n",
    "    \n",
    "    <!-- 1. For the 4 experiments for each model\n",
    "    What model had better results when it comes to plotting? --> -->\n",
    "\n",
    "<!-- -> Plot over the how many word over and under the target word length was.\n",
    "    \n",
    "    1. For the 3 experiments for each model\n",
    "    What model had better results when it comes to plotting?\n",
    "\n",
    "Plot 2 -> \n",
    "\n",
    "<span style=\"color:#F9F871\"> F9F871 </span>\n",
    "<span style=\"color:#FFC75F\"> FFC75F </span>\n",
    "<span style=\"color:#FF9671\"> FF9671 </span>\n",
    "\n",
    "<span style=\"color:#FF6F91\"> FF6F91 </span>\n",
    "<span style=\"color:#D65DB1\"> D65DB1 </span>\n",
    "<span style=\"color:#845EC2\"> 845EC2 </span>\n",
    "\n",
    "<span style=\"color:#00C0FF\">#00C0FF </span>\n",
    "<span style=\"color:#00D5F7\">#00D5F7 </span>\n",
    "<span style=\"color:#00E6DB\">#00E6DB </span>\n",
    "\n",
    "<span style=\"color:#58F2B3\">#58F2B3 </span>\n",
    "<span style=\"color:#ADF88B\">#ADF88B </span>\n",
    "<span style=\"color:#F9F871\">#F9F871 </span> -->"
   ]
  },
  {
   "cell_type": "markdown",
   "metadata": {},
   "source": [
    "## <span style=\"color:#58F2B3\"> Library Imports </span>"
   ]
  },
  {
   "cell_type": "code",
   "execution_count": 2,
   "metadata": {},
   "outputs": [
    {
     "name": "stderr",
     "output_type": "stream",
     "text": [
      "2024-07-07 10:18:23.500404: I tensorflow/core/platform/cpu_feature_guard.cc:210] This TensorFlow binary is optimized to use available CPU instructions in performance-critical operations.\n",
      "To enable the following instructions: AVX2 FMA, in other operations, rebuild TensorFlow with the appropriate compiler flags.\n",
      "2024-07-07 10:18:24.504693: W tensorflow/compiler/tf2tensorrt/utils/py_utils.cc:38] TF-TRT Warning: Could not find TensorRT\n"
     ]
    }
   ],
   "source": [
    "import os\n",
    "import numpy as np\n",
    "import matplotlib.pyplot as plt\n",
    "import self_made_functions as smf\n",
    "import seaborn as sns\n",
    "import pandas as pd\n",
    "import matplotlib.patches as mpatches"
   ]
  },
  {
   "cell_type": "markdown",
   "metadata": {},
   "source": [
    "## <span style=\"color:#ADF88B\"> Model and Test information"
   ]
  },
  {
   "cell_type": "markdown",
   "metadata": {},
   "source": [
    "For Whisper model tiny, is the deviation in extra words transcribed big for the lower score, and it gets smaller for higher score, but then the outliers are way bigger than at the lower scores.\n",
    "\n",
    "See: \n",
    "* Audio clip: 22 -> 210_220: Transcribed a longer sentence than the target sentence.\n",
    "* Audio clip: 20 -> It has 23 unique transcriptions whit no extra words.\n",
    "\n",
    "\n",
    "<span style=\"color:#FF6F91\"> **Test categories:**\n",
    "\n",
    "1. <span style=\"color:#FF9671\"> Grouping by score, sorted IDs : <code> {model_name}__concatenated_audio_information_scores_id_sorted </code></span>\n",
    "2. <span style=\"color:#FFC75F\"> Grouping by score, mixed IDs  : <code> {model_name}__concatenated_audio_information_scores_id_mixed </code></span>\n",
    "\n",
    "<!-- 3. <span style=\"color:#F9F871\"> Grouping by IDs: sorted scores: <code> {model_name}__concatenated_audio_information_by_id</code> </span> -->\n",
    "3. <span style=\"color:#F9F871\"> Grouping by IDs: sorted scores: <code> {model_name}__concatenated_audio_information_group_id_sorted_score</code> </span>\n",
    "4. <span style=\"color:#FF6F91\"> Random shuffling: no group    : <code> {model_name}__concatenated_audio_information_no_group_mixed </code></span>"
   ]
  },
  {
   "cell_type": "code",
   "execution_count": 3,
   "metadata": {},
   "outputs": [],
   "source": [
    "# models = ['tiny', 'nb-whisper-tiny', 'nb-whisper-tiny-verbatim',\n",
    "#         'base', 'nb-whisper-base', 'nb-whisper-base-verbatim',\n",
    "#         'medium', 'nb-whisper-medium', 'nb-whisper-medium-verbatim']\n",
    "\n",
    "tests_1 = [\n",
    "        'scores_id_sorted', # 1\n",
    "        'scores_id_mixed'] # 2\n",
    "\n",
    "tests_2 = [\n",
    "        'group_id_sorted_score', # 3 \n",
    "        'no_group_mixed'] # 4 \n",
    "\n",
    "comparable_tests = [\n",
    "        'scores_id_sorted', # 1\n",
    "        'group_id_sorted_score'] # 3 \n",
    "\n",
    "info_dir ='./Concat_results/corrected_data'\n",
    "figure_dir = './Concat_results'"
   ]
  },
  {
   "cell_type": "code",
   "execution_count": 4,
   "metadata": {},
   "outputs": [],
   "source": [
    "csv_lst = os.listdir(info_dir)\n",
    "medium_verbatim_csv = [file for file in csv_lst if file.startswith('nb-whisper-medium-verbatim')]\n",
    "# medium_verbatim_csv =[file for file in medium_verbatim_csv if file.endswith(tests_1[0]+'_v1.csv') or file.endswith(tests_1[1]+'_v1.csv')]\n",
    "# test_1_lst =[file for file in medium_verbatim_csv if file.endswith(tests_1[0]+'_v1.csv') or file.endswith(tests_1[1]+'_v1.csv')]\n",
    "medium_csv = [file for file in csv_lst if file.startswith('nb-whisper-medium')]"
   ]
  },
  {
   "cell_type": "code",
   "execution_count": 5,
   "metadata": {},
   "outputs": [
    {
     "data": {
      "text/plain": [
       "['nb-whisper-medium-verbatim__concatenated_audio_information_scores_id_sorted_v1.csv',\n",
       " 'nb-whisper-medium-verbatim__concatenated_audio_information_scores_id_mixed_v1.csv']"
      ]
     },
     "execution_count": 5,
     "metadata": {},
     "output_type": "execute_result"
    }
   ],
   "source": [
    "medium_verbatim_csv"
   ]
  },
  {
   "cell_type": "markdown",
   "metadata": {},
   "source": [
    "## **Test 1 and 2** : Plot CER/PER and WER - **Groupe: Score**"
   ]
  },
  {
   "cell_type": "code",
   "execution_count": 6,
   "metadata": {},
   "outputs": [],
   "source": [
    "def plot_cer_wer_subplots(df: pd.DataFrame, save_dir: str, \n",
    "                        plot_type: str,   plt_score = True, \n",
    "                        model: str = 'nb-medium-verbatim',\n",
    "                        model_name:str = 'NNL-Medium-Verbatim', \n",
    "                        name:str = None, save: bool = False):\n",
    "    \n",
    "    # Melt dataframes for CER and WER\n",
    "    df_melted_cer = pd.melt(df, id_vars=['score'], value_vars=['PER', 'translated_CER'],\n",
    "                            var_name='cer_type', value_name='cer_value')\n",
    "    df_melted_wer = pd.melt(df, id_vars=['score'], value_vars=['WER', 'translated_WER'],\n",
    "                            var_name='wer_type', value_name='wer_value')\n",
    "\n",
    "    # Set up the figure and axes\n",
    "    fig, (ax1, ax2) = plt.subplots(1, 2, figsize=(18, 6))\n",
    "\n",
    "    # -------------- Plot CER subplot ---------------- #\n",
    "    # score_range = ['#d2e7e4', '#a6cfca', '#63aca2', '#20887a', '#1a6d62']\n",
    "    score_range = ['#d2e7e4', '#a6cfca', '#63aca2', '#20887a', '#15574e']\n",
    "    q1_cer = df.groupby('score')['translated_CER'].quantile(0.25)\n",
    "    q3_cer = df.groupby('score')['translated_CER'].quantile(0.75)\n",
    "\n",
    "    if plt_score:\n",
    "        for score in range(1, 6):\n",
    "            text_align = 4.8\n",
    "            if score == 1:\n",
    "                text_y = q3_cer[1]\n",
    "                ax1.text(text_align, text_y, f'Score {score}', va='center', ha='center', color=score_range[-1], fontsize=12)\n",
    "            elif score == 5:\n",
    "                ax1.axhline(q3_cer[score], color='#C1554D', linestyle='--')\n",
    "                ax1.axhspan(ymin=0, ymax=q3_cer[score], color=score_range[-1], alpha=0.5)\n",
    "\n",
    "                text_y = (q1_cer[score] + q3_cer[score]) / 2\n",
    "                ax1.text(text_align, text_y, f'Score {score}', va='center', ha='center', color=score_range[-1], fontsize=12)\n",
    "            else:\n",
    "                ax1.axhline(q3_cer[score], color='#C1554D', linestyle='--')\n",
    "                ax1.axhspan(ymin=q3_cer[score], ymax=q3_cer[score + 1], color=score_range[score - 1], alpha=0.5)\n",
    "\n",
    "                text_y = (q3_cer[score] + q3_cer[score + 1]) / 2\n",
    "                ax1.text(text_align, text_y, f'Score {score}', va='center', ha='center', color=score_range[-1], fontsize=12)\n",
    "\n",
    "    # best_color = '#2f4858' # Dark blue\n",
    "    best_color = '#20887a' # Teal Green\n",
    "    sns.boxplot(x='score', y='cer_value', hue='cer_type', data=df_melted_cer, ax=ax1, showfliers=False,\n",
    "                palette=['#FFC75F', best_color], linewidth=1.5)\n",
    "\n",
    "    chosen_colors = ['#FFC75F', best_color]\n",
    "    chosen_names = ['PER: Target Words', f'CER: {model_name}']\n",
    "    legend_patches = [mpatches.Patch(color=color, label=name) for name, color in zip(chosen_names, chosen_colors)]\n",
    "\n",
    "    ax1.legend(handles=legend_patches, loc='best', frameon=False, shadow=False)\n",
    "    ax1.set_title(f'PER versus CER', fontsize=17)\n",
    "    ax1.set_xlabel('Global Score', fontsize=14)\n",
    "    ax1.set_ylabel('PER & CER', fontsize=14)\n",
    "    ax1.tick_params(axis='both', which='major', labelsize=13)\n",
    "\n",
    "    # -------------- Plot WER subplot -------------- #\n",
    "    q1_wer = df.groupby('score')['translated_WER'].quantile(0.25)\n",
    "    q3_wer = df.groupby('score')['translated_WER'].quantile(0.75)\n",
    "\n",
    "    if plt_score:\n",
    "        for score in range(1, 6):\n",
    "            if score == 1:\n",
    "                text_y = q3_wer[1] + 0.1\n",
    "                # text_y = q3_wer[1]\n",
    "                ax2.text(text_align, text_y, f'Score {score}', va='center', ha='center', color=score_range[-1], fontsize=12)\n",
    "            elif score == 5:\n",
    "                ax2.axhline(q3_wer[score], color='#C1554D', linestyle='--')\n",
    "                ax2.axhspan(ymin=0, ymax=q3_wer[score], color=score_range[-1], alpha=0.5)\n",
    "\n",
    "                text_y = (q1_wer[score] + q3_wer[score]) / 2\n",
    "                ax2.text(text_align, text_y, f'Score {score}', va='center', ha='center', color=score_range[-1], fontsize=12)\n",
    "            else:\n",
    "                ax2.axhline(q3_wer[score], color='#C1554D', linestyle='--')\n",
    "                ax2.axhspan(ymin=q3_wer[score], ymax=q3_wer[score + 1], color=score_range[score - 1], alpha=0.5)\n",
    "\n",
    "                text_y = (q3_wer[score] + q3_wer[score + 1]) / 2\n",
    "                ax2.text(text_align, text_y, f'Score {score}', va='center', ha='center', color=score_range[-1], fontsize=12)\n",
    "\n",
    "    sns.boxplot(x='score', y='wer_value', hue='wer_type', data=df_melted_wer, ax=ax2, showfliers=False,\n",
    "                palette=['#FFC75F', best_color], linewidth=1.5)\n",
    "\n",
    "    chosen_names_wer = ['WER: Target Words', f'WER: {model_name}']\n",
    "    legend_patches_wer = [mpatches.Patch(color=color, label=name) for name, color in\n",
    "                        zip(chosen_names_wer, chosen_colors)]\n",
    "\n",
    "    ax2.legend(handles=legend_patches_wer, loc='best', frameon=False, shadow=False)\n",
    "    ax2.set_title(f'WER for target words versus. transcribed words', fontsize=17)\n",
    "    ax2.set_xlabel('Global Score', fontsize=14)\n",
    "    ax2.set_ylabel('WER', fontsize=14)\n",
    "    ax2.tick_params(axis='both', which='major', labelsize=13)\n",
    "\n",
    "    # plt.title(f'Box Plot ', fontsize=17)\n",
    "    fig.suptitle(f'Concatenated audio: {plot_type}', fontsize=20, y=1.02)\n",
    "    plt.tight_layout()\n",
    "    \n",
    "    if save:\n",
    "        save_dir = os.path.join(save_dir, f'concat_{model}_{name}.png')\n",
    "        print(f'Saving figure to {save_dir}')\n",
    "        plt.savefig(save_dir, bbox_inches='tight')\n",
    "        plt.close()\n",
    "    else:\n",
    "        plt.show()"
   ]
  },
  {
   "cell_type": "markdown",
   "metadata": {},
   "source": [
    "### **Test 1 and 2** : NNL medium verbatim "
   ]
  },
  {
   "cell_type": "code",
   "execution_count": 7,
   "metadata": {},
   "outputs": [],
   "source": [
    "df_csv_sorted = pd.read_csv(os.path.join(info_dir, 'nb-whisper-medium-verbatim__concatenated_audio_information_scores_id_sorted_v1.csv')) \n",
    "df_csv_mixed = pd.read_csv(os.path.join(info_dir, 'nb-whisper-medium-verbatim__concatenated_audio_information_scores_id_mixed_v1.csv'))\n",
    "# save = True\n",
    "# plot_cer_wer_subplots(df_csv_sorted, save_dir = figure_dir, \n",
    "#                         model='nb-whisper-medium-verbatim', \n",
    "#                         model_name = 'NNL-Medium-Verbatim',\n",
    "#                         plot_type='Grouped by score. Sorted by id', name = 'group_score_sorted_id' , save = save)\n",
    "\n",
    "# plot_cer_wer_subplots(df_csv_mixed, save_dir = figure_dir, \n",
    "#                         model='nb-whisper-medium-verbatim', \n",
    "#                         model_name = 'NNL-Medium-Verbatim',\n",
    "#                         plot_type='Grouped by score. Mixed ids', name = 'group_score_mixed_id', plt_score = False, save=save)"
   ]
  },
  {
   "cell_type": "markdown",
   "metadata": {},
   "source": [
    "### **Test 1 and 2** : NNL medium"
   ]
  },
  {
   "cell_type": "code",
   "execution_count": 8,
   "metadata": {},
   "outputs": [
    {
     "name": "stdout",
     "output_type": "stream",
     "text": [
      "Saving figure to ./Concat_results/concat_nb-whisper-medium_group_score_sorted_id.png\n",
      "Saving figure to ./Concat_results/concat_nb-whisper-medium_group_score_mixed_id.png\n"
     ]
    }
   ],
   "source": [
    "df_csv_sorted = pd.read_csv(os.path.join(info_dir, 'nb-whisper-medium__concatenated_audio_information_scores_id_sorted_v1.csv')) \n",
    "df_csv_mixed = pd.read_csv(os.path.join(info_dir, 'nb-whisper-medium__concatenated_audio_information_scores_id_mixed_v1.csv'))\n",
    "save = True\n",
    "plot_cer_wer_subplots(df_csv_sorted, save_dir = figure_dir, \n",
    "                        model='nb-whisper-medium', \n",
    "                        model_name = 'NNL-Medium',\n",
    "                        plot_type='Grouped by score. Sorted by id', \n",
    "                        name = 'group_score_sorted_id' , save = save)\n",
    "\n",
    "plot_cer_wer_subplots(df_csv_mixed, save_dir = figure_dir,\n",
    "                        model='nb-whisper-medium', \n",
    "                        model_name = 'NNL-Medium',\n",
    "                        plot_type='Grouped by score. Mixed id', \n",
    "                        name = 'group_score_mixed_id',plt_score = False , save = save)\n"
   ]
  },
  {
   "cell_type": "markdown",
   "metadata": {},
   "source": [
    "## **Test 3 and 4** : Plot for CER/PER and WER - **Group: ID** "
   ]
  },
  {
   "cell_type": "code",
   "execution_count": 129,
   "metadata": {},
   "outputs": [],
   "source": [
    "def box_plots_id(best_model:pd.DataFrame, save_dir:str, \n",
    "                target:str = 'PER', trans:str = 'translated_CER', \n",
    "                name:str =  'per_cer_group_id_sorted_score',\n",
    "                test:str = 'PER and CER', save:bool = False):\n",
    "    # ------ Melt model, so PER and CER can be compared ------ #\n",
    "    df_melted = pd.melt(best_model, id_vars=['speaker_id'], value_vars=[target, trans],\n",
    "                        var_name='cer_type', value_name='cer_value') \n",
    "    df_melted_a = df_melted[df_melted['speaker_id'].str.contains('a')].copy() # Non Native\n",
    "    df_melted_d = df_melted[df_melted['speaker_id'].str.contains('d')].copy() # Native \n",
    "    \n",
    "    fig, ax = plt.subplots(1, 1, figsize=(25, 6))\n",
    "    #  ----------  Boxplot ---------- #\n",
    "    sns.boxplot(x='speaker_id', y='cer_value', hue='cer_type', data=df_melted_a, ax=ax, showfliers=False, palette=['#FFC75F', '#00966E'], linewidth=1.5)\n",
    "    sns.boxplot(x='speaker_id', y='cer_value', hue='cer_type', data=df_melted_d, ax=ax, showfliers=False, palette=['#FFC75F', '#C1554D'], linewidth=1.5)\n",
    "    \n",
    "    #  ---------- Title and labels ---------- #\n",
    "    plt.title(f\"Concatenated audio: Grouped by ID. Sorted by Score - {test} for all IDs\", fontsize=25)\n",
    "    plt.xlabel(\"Speaker IDs\", fontsize=18)\n",
    "    plt.ylabel(f'PER & CER', fontsize=18)\n",
    "    \n",
    "    #  ---------- x- and y-axis ---------- #\n",
    "    plt.xticks(fontsize=15)\n",
    "    plt.yticks(fontsize=16)\n",
    "    \n",
    "    #  ---------- Model legend box  ---------- # \n",
    "    chosen_colors = ['#FFC75F', '#00966E', '#C1554D']\n",
    "    chosen_names = ['PER', 'CER Non Native', 'CER Native']\n",
    "    legend_patches = [mpatches.Patch(color=color, label=name) for name, color in zip(chosen_names, chosen_colors)]\n",
    "\n",
    "    # Add legend with custom settings\n",
    "    legend = ax.legend(handles=legend_patches, loc='best', frameon=False, shadow=False)\n",
    "    legend.get_frame().set_facecolor('#f0eeeb')  # Background color\n",
    "    for text in legend.get_texts():\n",
    "        text.set_fontsize('16')  # Legend text font size\n",
    "    \n",
    "    \n",
    "    #  ---------- Save or Show ---------- #\n",
    "    plt.tight_layout()\n",
    "    if save:\n",
    "        plt.savefig(os.path.join(save_dir, f'concat_{name}.png'), bbox_inches='tight')\n",
    "        plt.close()\n",
    "    else:\n",
    "        plt.show()"
   ]
  },
  {
   "cell_type": "markdown",
   "metadata": {},
   "source": [
    "### Correct PER and CER\n",
    "\n",
    "Found Error in Calcualted PER and WER, so fixed this"
   ]
  },
  {
   "cell_type": "code",
   "execution_count": 112,
   "metadata": {},
   "outputs": [],
   "source": [
    "file_path = './Concat_results/corrected_data/Not used/nb-whisper-medium-verbatim__concatenated_audio_information_group_id_sorted_score_v1.csv'\n",
    "df_csv_id = pd.read_csv(file_path)\n",
    "\n",
    "# ---- Script to fix the calculated PER and WER in - Grouped by ID, Sorted by Score  ---- #\n",
    "import self_made_functions as smf\n",
    "def make_str(w, id):\n",
    "    return f'{id}_{w}.wav'\n",
    "\n",
    "df_assesment, wv_path = smf.get_correct_df()\n",
    "# df_csv_id['pron'] = None # Add if needed\n",
    "for i, row in df_csv_id.iterrows():\n",
    "    # Get the file names ------------\n",
    "    id = row['speaker_id']\n",
    "    word_lst = row['input_string'].split()\n",
    "    map_dict = {'æ':'ae', 'ø':'oe', 'å':'aa'}\n",
    "    word_lst = [word.translate(str.maketrans(map_dict)) for word in word_lst] # Copilot\n",
    "    \n",
    "    # get pronScore form assement df ------------\n",
    "    words =[make_str(word, id) for word in word_lst]\n",
    "    assesment_rows = df_assesment[df_assesment['File name'].isin(words)]\n",
    "    assesment_rows = assesment_rows.reset_index(drop=True)\n",
    "    \n",
    "    # Calculate PER ------------\n",
    "    pronScores = ' '.join(assesment_rows['pronScores'].astype(str))\n",
    "    wrong_char = pronScores.count('0')\n",
    "    total_char = len(pronScores)\n",
    "    df_csv_id.loc[i, 'PER'] = wrong_char / total_char\n",
    "    # print(row['PER'])\n",
    "    \n",
    "    # Calulate target WER ------------\n",
    "    target = list(assesment_rows['pronScores'])\n",
    "    word_len = len(target)\n",
    "    count_words_with_zero = sum('0' in zero for zero in target)\n",
    "    df_csv_id.loc[i, 'WER'] = count_words_with_zero / word_len    \n",
    "    # print(row['WER'])\n",
    "    # if row['WER'] < 1.0:\n",
    "        # print(row['WER'])\n",
    "    \n",
    "    # # Add pronScore if needed\n",
    "    # pron_lst = ','.join(assesment_rows['pronScores'].astype(str))\n",
    "    # df_csv_id.loc[i, 'pron'] = pron_lst\n",
    "    # # print(target)\n",
    "\n",
    "    # print(, row['score'], row['PER'], row['CER'], row['translated_CER'], row['translated_WER'])\n",
    "# print(words)\n",
    "# print(word_len)\n",
    "# print(assesment_rows['File name'])\n",
    "# print(assesment_rows['pronScores'])\n",
    "# print(target)\n",
    "# print index = 20"
   ]
  },
  {
   "cell_type": "markdown",
   "metadata": {},
   "source": [
    "### ID plot"
   ]
  },
  {
   "cell_type": "code",
   "execution_count": 131,
   "metadata": {},
   "outputs": [],
   "source": [
    "save = True\n",
    "box_plots_id(df_csv_id, save_dir = figure_dir, save = save)\n",
    "box_plots_id(df_csv_id, save_dir = figure_dir, \n",
    "            target = 'WER', trans = 'translated_WER',\n",
    "            name = 'wer_group_id_sorted_score', \n",
    "            test = 'WER', save = save)"
   ]
  },
  {
   "cell_type": "code",
   "execution_count": 113,
   "metadata": {},
   "outputs": [
    {
     "data": {
      "text/plain": [
       "Text(0, 0.5, 'CER')"
      ]
     },
     "execution_count": 113,
     "metadata": {},
     "output_type": "execute_result"
    },
    {
     "data": {
      "image/png": "[encoded data removed]",
      "text/plain": [
       "<Figure size 1800x600 with 1 Axes>"
      ]
     },
     "metadata": {},
     "output_type": "display_data"
    }
   ],
   "source": [
    "\n",
    "# df_csv_id = pd.read_csv('./Concat_results/corrected_data/nb-whisper-medium-verbatim__concatenated_audio_information_group_id_sorted_score_v1.csv')\n",
    "fig, ax = plt.subplots(1, 1, figsize=(18, 6))\n",
    "best_color = '#2f4858'\n",
    "sns.boxplot(x='speaker_id', y='translated_CER', data=df_csv_id, ax=ax, showfliers=False,\n",
    "                color=best_color, linewidth=1.5)\n",
    "\n",
    "ax.set_title(f'Concatenated audio: Grouped by ID. Sorted by Score - Translated CER values for all IDs', fontsize=17)\n",
    "ax.set_xlabel('Speaker ID', fontsize=14)\n",
    "ax.set_ylabel('CER', fontsize=14)\n"
   ]
  },
  {
   "cell_type": "code",
   "execution_count": null,
   "metadata": {},
   "outputs": [],
   "source": [
    "df_csv_no_group"
   ]
  },
  {
   "cell_type": "markdown",
   "metadata": {},
   "source": [
    "## Plot for NNL medium"
   ]
  },
  {
   "cell_type": "code",
   "execution_count": 194,
   "metadata": {},
   "outputs": [
    {
     "name": "stdout",
     "output_type": "stream",
     "text": [
      "0.40800477897252085\n",
      "0.8052944862155389 Base\n",
      "0.7961073318216175 Medium\n",
      "0.7647058823529411 NNL-base\n",
      "0.7905701754385965 NNL-base-verbatim\n",
      "0.7623083131557707 NNL-medium\n",
      "0.7759856630824373 NNL-medium-verbatim\n",
      "0.7596296296296297 NNL-tiny\n",
      "0.8336215842269111 NNL-tiny-verbatim\n",
      "0.8198051948051948 Tiny\n"
     ]
    }
   ],
   "source": [
    "# Make a table where the median value CER/PER and WER of each model fore each test is returned\n",
    "# Median PER for each test\n",
    "name = 'NNL-medium-verbatim'\n",
    "per_calculated = the_chad_df[the_chad_df['model_name'] == name]['PER'] \n",
    "print(per_calculated.median())\n",
    "# Calculate CER for each model in the_chad_df\n",
    "\n",
    "model_lst = the_chad_df['model_name'].unique()\n",
    "for model in model_lst:\n",
    "    cer_calculated = the_chad_df[the_chad_df['model_name'] == model]['translated_CER'] \n",
    "    print(cer_calculated.median(), model)\n",
    "\n"
   ]
  }
 ],
 "metadata": {
  "kernelspec": {
   "display_name": "master_amanda",
   "language": "python",
   "name": "python3"
  },
  "language_info": {
   "codemirror_mode": {
    "name": "ipython",
    "version": 3
   },
   "file_extension": ".py",
   "mimetype": "text/x-python",
   "name": "python",
   "nbconvert_exporter": "python",
   "pygments_lexer": "ipython3",
   "version": "3.12.4"
  }
 },
 "nbformat": 4,
 "nbformat_minor": 2
}
