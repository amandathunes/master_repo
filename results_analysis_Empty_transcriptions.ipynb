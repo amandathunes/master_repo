{
 "cells": [
  {
   "cell_type": "markdown",
   "metadata": {},
   "source": [
    "## <b><span style=\"color:#FF6F91\"> Empty Transcriptions </span></b>\n",
    "\n",
    "* Compare the <b><span style=\"color:#ff6f91\">empty transcription</span></b> files to speaker id's\n",
    "\n",
    "<span style=\"color:#FF6F91\"> Content </span>\n",
    "<span style=\"color:#E07250\"> Content </span>\n",
    "<span style=\"color:#AC7C26\"> Content </span>\n",
    "<span style=\"color:#6F7F22\"> Content </span>\n",
    "<span style=\"color:#257A3E\"> Content </span>\n",
    "<span style=\"color:#006F5F\"> Content </span>\n",
    "\n",
    "\n",
    "<!-- #FFBCDD\n",
    "#CDABE3\n",
    "#859FDF\n",
    "#0094C8\n",
    "#00849C\n",
    "#007061\n",
    "\n",
    "<span style=\"color:#FFBCDD\"> Content </span>\n",
    "<span style=\"color:#CDABE3\"> Content </span>\n",
    "<span style=\"color:#859FDF\"> Content </span>\n",
    "<span style=\"color:#0094C8\"> Content </span>\n",
    "<span style=\"color:#00849C\"> Content </span>\n",
    "<span style=\"color:#007061\"> Content </span> -->\n",
    "\n",
    "\n"
   ]
  },
  {
   "cell_type": "code",
   "execution_count": null,
   "metadata": {},
   "outputs": [],
   "source": []
  },
  {
   "cell_type": "markdown",
   "metadata": {},
   "source": [
    "<b><span style=\"color:#ff7d9c\">ff7d9c</span></b>\t\n"
   ]
  },
  {
   "cell_type": "code",
   "execution_count": null,
   "metadata": {},
   "outputs": [],
   "source": []
  },
  {
   "cell_type": "markdown",
   "metadata": {},
   "source": [
    "<b><span style=\"color:#ff8ca7\">ff8ca7</span></b>\t\n"
   ]
  },
  {
   "cell_type": "code",
   "execution_count": null,
   "metadata": {},
   "outputs": [],
   "source": []
  },
  {
   "cell_type": "markdown",
   "metadata": {},
   "source": [
    "<b><span style=\"color:#ff9ab2\">ff9ab2</span></b>\t\n"
   ]
  },
  {
   "cell_type": "code",
   "execution_count": null,
   "metadata": {},
   "outputs": [],
   "source": []
  },
  {
   "cell_type": "markdown",
   "metadata": {},
   "source": [
    "<b><span style=\"color:#ffa9bd\">ffa9bd</span></b>\t\n",
    "<b><span style=\"color:#ffb7c8\">ffb7c8</span></b>\t\n",
    "<b><span style=\"color:#ffc5d3\">ffc5d3</span></b>"
   ]
  }
 ],
 "metadata": {
  "language_info": {
   "name": "python"
  }
 },
 "nbformat": 4,
 "nbformat_minor": 2
}
